{
 "cells": [
  {
   "cell_type": "markdown",
   "metadata": {},
   "source": [
    "# Preprocessing of news articles for Kun.uz (Uzbekistan)"
   ]
  },
  {
   "cell_type": "markdown",
   "metadata": {},
   "source": [
    "Following code labels articles based on which countries and alliances (any intergovernmental organizations) are mentioned. "
   ]
  },
  {
   "cell_type": "markdown",
   "metadata": {},
   "source": [
    "Define country names in Uzbek:"
   ]
  },
  {
   "cell_type": "code",
   "execution_count": 6,
   "metadata": {},
   "outputs": [],
   "source": [
    "countries_dict = {\n",
    "    \"Australia\": \"Avstraliya\",\n",
    "    \"Austria\": \"Avstriya\",\n",
    "    \"Albania\": \"Albaniya\",\n",
    "    \"United States of America\": \"Amerika Qo'shma Shtatlari\",\n",
    "    \"United States-2\": \"Amerika Qo‘shma Shtatlari\",\n",
    "    \"Angola\": \"Angola\",\n",
    "    \"Andorra\": \"Andorra\",\n",
    "    \"Antigua and Barbuda\": \"Antigua va Barbuda\",\n",
    "    \"Argentina\": \"Argentina\",\n",
    "    \"Armenia\": \"Armaniston\",\n",
    "    \"Afghanistan\": \"Afg‘oniston\",\n",
    "    \"Afghanistan-2\": \"Afg'oniston\",\n",
    "    \"Bahamas\": \"Bagama\",\n",
    "    \"Bangladesh\": \"Bangladesh\",\n",
    "    \"Barbados\": \"Barbados\",\n",
    "    \"Bahrain\": \"Bahrayn\",\n",
    "    \"Belarus\": \"Belorus\",\n",
    "    \"Belarus-2\": \"Belarus\",\n",
    "    \"Belize\": \"Beliz\",\n",
    "    \"Belgium\": \"Belgiya\",\n",
    "    \"Benin\": \"Benin\",\n",
    "    \"United Arab Emirates\": \"Birlashgan Arab Amirliklari\",\n",
    "    \"Bulgaria\": \"Bolgariya\",\n",
    "    \"Bolivia\": \"Boliviya\",\n",
    "    \"Bosnia and Herzegovina\": \"Bosniya\",\n",
    "    \"Botswana\": \"Botsvana\",\n",
    "    \"Brazil\": \"Braziliya\",\n",
    "    \"Brunei\": \"Bruney\",\n",
    "    \"Burkina Faso\": \"Burkino-Faso\",\n",
    "    \"Burundi\": \"Burundi\",\n",
    "    \"Bhutan\": \"Butan\",\n",
    "    \"United Kingdom\": \"Buyuk Britaniya\",\n",
    "    \"Vanuatu\": \"Vanuatu\",\n",
    "    \"Vatican\": \"Vatikan\",\n",
    "    \"Hungary\": \"Vengriya\",\n",
    "    \"Venezuela\": \"Venesuela\",\n",
    "    \"Vietnam\": \"Vetnam\",\n",
    "    \"Gabon\": \"Gabon\",\n",
    "    \"Haiti\": \"Gaiti\",\n",
    "    \"Guyana\": \"Gayana\",\n",
    "    \"Gambia\": \"Gambiya\",\n",
    "    \"Ghana\": \"Gana\",\n",
    "    \"Guatemala\": \"Gvatemala\",\n",
    "    \"Guinea\": \"Gvineya\",\n",
    "    \"Guinea-Bissau\": \"Gvineya-Bisau\",\n",
    "    \"Germany\": \"Germaniya\",\n",
    "    \"Honduras\": \"Gonduras\",\n",
    "    \"Grenada\": \"Grenada\",\n",
    "    \"Greece\": \"Gretsiya\",\n",
    "    \"Georgia\": \"Gruziya\",\n",
    "    \"Denmark\": \"Daniya\",\n",
    "    # \"Dominica\": \"Dominika\",\n",
    "    # \"Dominican Republic\": \"Dominikan Respublikasi\",\n",
    "    \"Dominican Republic\": \"Dominika\",\n",
    "    \"Algeria\": \"Jazoir\",\n",
    "    \"South Africa\": \"Janubiy Afrika\",\n",
    "    \"South Sudan\": \"Janubiy Sudan\",\n",
    "    \"Djibouti\": \"Jibuti\",\n",
    "    \"Zambia\": \"Zambiya\",\n",
    "    \"Zimbabwe\": \"Zimbabve\",\n",
    "    \"Israel\": \"Isroil\",\n",
    "    \"Indonesia\": \"Indoneziya\",\n",
    "    \"Jordan\": \"Iordaniya\",\n",
    "    \"Iraq\": \"Iroq\",\n",
    "    \"Ireland\": \"Irlandiya\",\n",
    "    \"Spain\": \"Ispaniya\",\n",
    "    \"Iceland\": \"Islandiya\",\n",
    "    \"Italy\": \"Italiya\",\n",
    "    \"Cape Verde\": \"Kabo-Verde\",\n",
    "    \"Cambodia\": \"Kamboja\",\n",
    "    \"Cameroon\": \"Kamerun\",\n",
    "    \"Canada\": \"Kanada\",\n",
    "    \"Kenya\": \"Keniya\",\n",
    "    \"Cyprus\": \"Kipr\",\n",
    "    \"Kiribati\": \"Kiribati\",\n",
    "    \"Colombia\": \"Kolumbiya\",\n",
    "    \"Comoros\": \"Komor orollari\",\n",
    "    \"Congo\": \"Kongo\",\n",
    "    \"Democratic Republic of the Congo\": \"Kongo Demokratik Respublikasi\",\n",
    "    \"North Korea\": \"Shimoliy Koreya\",\n",
    "    \"South Korea\": \"Janubiy Koreya\",\n",
    "    \"North Korea-2\": \"KXDR\",\n",
    "    \"South Korea-2\": \"Koreya Respublikasi\",\n",
    "    \"Costa Rica\": \"Kosta-Rika\",\n",
    "    \"Ivory Coast\": \"Kot-d‘Ivuar\",\n",
    "    \"Cuba\": \"Kuba\",\n",
    "    \"Laos\": \"Laos\",\n",
    "    \"Latvia\": \"Latviya\",\n",
    "    \"Lesotho\": \"Lesoto\",\n",
    "    \"Liberia\": \"Liberiya\",\n",
    "    \"Lebanon\": \"Livan\",\n",
    "    \"Libya\": \"Liviya\",\n",
    "    \"Lithuania\": \"Litva\",\n",
    "    \"Liechtenstein\": \"Lixtenshteyn\",\n",
    "    \"Luxembourg\": \"Lyuksemburg\",\n",
    "    \"Mauritius\": \"Mavrikiy\",\n",
    "    \"Mauritania\": \"Mavritaniya\",\n",
    "    \"Madagascar\": \"Madagaskar\",\n",
    "    \"Malawi\": \"Malavi\",\n",
    "    \"Malaysia\": \"Malayziya\",\n",
    "    \"Mali\": \"Mali\",\n",
    "    \"Maldives\": \"Maldiv orollari\",\n",
    "    \"Malta\": \"Malta\",\n",
    "    \"Central African Republic\": \"Markaziy Afrika Respublikasi\",\n",
    "    \"Morocco\": \"Marokash\",\n",
    "    \"Marshall Islands\": \"Marshall orollari\",\n",
    "    \"Mexico\": \"Meksika\",\n",
    "    \"Micronesia\": \"Mikroneziya\",\n",
    "    \"Egypt\": \"Misr\",\n",
    "    \"Mozambique\": \"Mozambik\",\n",
    "    \"Moldova\": \"Moldova\",\n",
    "    \"Monaco\": \"Monako\",\n",
    "    \"Mongolia\": \"Mongoliya\",\n",
    "    \"Myanmar\": \"Myanma\",\n",
    "    \"Namibia\": \"Namibiya\",\n",
    "    \"Nauru\": \"Nauru\",\n",
    "    \"Nepal\": \"Nepal\",\n",
    "    # \"Niger\": \"Niger\", # Removed\n",
    "    \"Nigeria\": \"Nigeriya\",\n",
    "    \"Netherlands\": \"Niderlandiya\",\n",
    "    \"Nicaragua\": \"Nikaragua\",\n",
    "    \"Norway\": \"Norvegiya\",\n",
    "    \"Azerbaijan\": \"Ozarboyjon\",\n",
    "    \"Azerbaijan-2\": \"Ozarbayjon\",\n",
    "    \"Pakistan\": \"Pokiston\",\n",
    "    \"Palau\": \"Palau\",\n",
    "    \"Panama\": \"Panama\",\n",
    "    \"Papua New Guinea\": \"Yangi Gvineya\",\n",
    "    \"Paraguay\": \"Paragvay\",\n",
    "    \"Peru\": \"Peru\",\n",
    "    \"Poland\": \"Polsha\",\n",
    "    \"Portugal\": \"Portugaliya\",\n",
    "    \"Russian Federation\": \"Rossiya\",\n",
    "    \"Rwanda\": \"Ruanda\",\n",
    "    \"Romania\": \"Ruminiya\",\n",
    "    \"El Salvador\": \"El-Salvador\",\n",
    "    \"Samoa\": \"Samoa\",\n",
    "    \"San Marino\": \"San-Marino\",\n",
    "    \"Sao Tome and Principe\": \"San-Tome va Prinsipi\",\n",
    "    \"Saudi Arabia\": \"Saudiya\",\n",
    "    \"Seychelles\": \"Seyshell orollari\",\n",
    "    \"Senegal\": \"Senegal\",\n",
    "    \"Saint Vincent and the Grenadines\": \"Sent-Vinsent va Grenadina\",\n",
    "    \"Saint Kitts and Nevis\": \"Sent-Kits va Nevis\",\n",
    "    \"Saint Lucia\": \"Sent-Lyusiya\",\n",
    "    \"Serbia\": \"Serbiya\",\n",
    "    \"Singapore\": \"Singapur\",\n",
    "    \"Syria\": \"Suriya\",\n",
    "    \"Slovakia\": \"Slovakiya\",\n",
    "    \"Slovenia\": \"Sloveniya\",\n",
    "    \"Solomon Islands\": \"Solomon orollari\",\n",
    "    \"Somalia\": \"Somali\",\n",
    "    \"Sudan\": \"Sudan\",\n",
    "    \"Suriname\": \"Surinam\",\n",
    "    \"Sierra Leone\": \"Serra-Leone\",\n",
    "    \"Tajikistan\": \"Tojikiston\",\n",
    "    \"Thailand\": \"Tailand\",\n",
    "    \"Tanzania\": \"Tanzaniya\",\n",
    "    \"Togo\": \"Togo\",\n",
    "    \"Tonga\": \"Tongo\",\n",
    "    \"Trinidad and Tobago\": \"Trinidad va Tabago\",\n",
    "    \"Tuvalu\": \"Tuvalu\",\n",
    "    \"Tunisia\": \"Tunis\",\n",
    "    \"Turkmenistan\": \"Turkmaniston\",\n",
    "    \"Turkey\": \"Turkiya\",\n",
    "    \"Uganda\": \"Uganda\",\n",
    "    \"Ukraine\": \"Ukraina\",\n",
    "    \"Oman\": \"Ummon\",\n",
    "    \"Uruguay\": \"Urugvay\",\n",
    "    \"Fiji\": \"Fiji\",\n",
    "    \"Philippines\": \"Filippin\",\n",
    "    \"Finland\": \"Finlandiya\",\n",
    "    \"France\": \"Fransiya\",\n",
    "    \"China\": \"Xitoy\",\n",
    "    \"Croatia\": \"Xorvatiya\",\n",
    "    \"Chad\": \"Chad\",\n",
    "    \"Montenegro\": \"Chernogoriya\",\n",
    "    \"Czech Republic\": \"Chexiya\",\n",
    "    \"Chile\": \"Chili\",\n",
    "    \"Switzerland\": \"Shveytsariya\",\n",
    "    \"Sweden\": \"Shvetsiya\",\n",
    "    \"Sri Lanka\": \"Shri-Lanka\",\n",
    "    \"Timor-Leste\": \"Sharqiy Timor\",\n",
    "    \"North Macedonia\": \"Shimoliy Makedoniya\",\n",
    "    \"Ecuador\": \"Ekvador\",\n",
    "    \"Equatorial Guinea\": \"Ekvatorial Gvineya\",\n",
    "    \"Eritrea\": \"Eritreya\",\n",
    "    \"Iran\": \"Eron\",\n",
    "    \"Eswatini\": \"Esvatini\",\n",
    "    \"Estonia\": \"Estoniya\",\n",
    "    \"Ethiopia\": \"Efiopiya\",\n",
    "    \"Jamaica\": \"Yamayka\",\n",
    "    \"Yemen\": \"Yaman\",\n",
    "    \"New Zealand\": \"Yangi Zelandiya\",\n",
    "    \"Japan\": \"Yaponiya\",\n",
    "    \"Qatar\": \"Qatar\",\n",
    "    \"Kyrgyzstan\": \"Qirg‘iz\",\n",
    "    \"Kazakhstan\": \"Qozog‘iston\",\n",
    "    \"Kuwait\": \"Quvayt\",\n",
    "    \"India\": \"Hindiston\",\n",
    "    \"Kosovo\": \"Kosovo\",\n",
    "    \"Palestine\": \"Falastin\",\n",
    "    \"Uzbekistan\": \"O‘zbekiston\",\n",
    "    \"Uzbekistan-2\": \"O'zbekiston\",\n",
    "    \"Palestine\": \"Falastin\",\n",
    "    \"Taiwan\": \"Tayvan\",\n",
    "    \"USA\": \"AQSh\"\n",
    "}"
   ]
  },
  {
   "cell_type": "markdown",
   "metadata": {},
   "source": [
    "Define alliances in Uzbek:"
   ]
  },
  {
   "cell_type": "code",
   "execution_count": 8,
   "metadata": {},
   "outputs": [],
   "source": [
    "alliances = {\n",
    "    \"United Nations\": \"BMT\", \n",
    "    \"United Nations-2\": \"Birlashgan Millatlar Tashkiloti\",\n",
    "    \"NATO\": \"NATO\",\n",
    "    \"European Union\": \"Yevropa Ittifoqi\",\n",
    "    \"European Union-2\": \"Yevropa ittifoqi\",\n",
    "    \"EU\": \"Yevroittifoq\",\n",
    "    \"African Union\": \"Afrika Ittifoqi\",\n",
    "    \"G7\": \"G7\",\n",
    "    \"G20\": \"G20\",\n",
    "    \"Arab League\": \"Arab Liga\",\n",
    "    \"SCO\": \"Shanxay Hamkorlik Tashkiloti\",\n",
    "    \"SCO-2\": \"ShHT\",\n",
    "    \"BRICS\": \"BRIKS\"\n",
    "}\n"
   ]
  },
  {
   "cell_type": "markdown",
   "metadata": {},
   "source": [
    "Load the CSV file into a DataFrame"
   ]
  },
  {
   "cell_type": "code",
   "execution_count": 10,
   "metadata": {},
   "outputs": [],
   "source": [
    "import pandas as pd\n",
    "df = pd.read_csv('/Users/mellome/Desktop/ICSS-FP/datasets/final_kun_uz_dataset.csv')  # Replace with your file path\n",
    "df = df[df['target']=='jahon']\n"
   ]
  },
  {
   "cell_type": "markdown",
   "metadata": {},
   "source": [
    "Function to label countries based on keywords in the text:"
   ]
  },
  {
   "cell_type": "code",
   "execution_count": 12,
   "metadata": {},
   "outputs": [],
   "source": [
    "def label_mentions(text):\n",
    "    labels = []\n",
    "    for label, keyword in countries_dict.items():\n",
    "        if keyword in text:  # Check for keyword in lowercase\n",
    "            labels.append(label) \n",
    "    return labels\n",
    "\n",
    "df['countries'] = df['content'].apply(label_mentions)"
   ]
  },
  {
   "cell_type": "markdown",
   "metadata": {},
   "source": [
    "Function to label alliances based on keywords in the text:"
   ]
  },
  {
   "cell_type": "code",
   "execution_count": 14,
   "metadata": {},
   "outputs": [],
   "source": [
    "def label_mention(text):\n",
    "    labels = []\n",
    "    for label, keyword in alliances.items():\n",
    "        if keyword in text:  # Check for keyword in lowercase\n",
    "            labels.append(label) \n",
    "    return labels\n",
    "\n",
    "df['alliances'] = df['content'].apply(label_mention)"
   ]
  },
  {
   "cell_type": "markdown",
   "metadata": {},
   "source": [
    "Function to label whether target country (Uzbekistan) mentioned itself in the text:"
   ]
  },
  {
   "cell_type": "code",
   "execution_count": 16,
   "metadata": {},
   "outputs": [],
   "source": [
    "def self_mention(text):\n",
    "    for keyword in (\"O‘zbekiston\", \"O'zbekiston\"):\n",
    "        if keyword in text:  # Check for keyword in lowercase\n",
    "            return 1\n",
    "    return 0\n",
    "\n",
    "df['self'] = df['content'].apply(self_mention)"
   ]
  },
  {
   "cell_type": "markdown",
   "metadata": {},
   "source": [
    "Standardize country and alliance names in the columns"
   ]
  },
  {
   "cell_type": "code",
   "execution_count": 18,
   "metadata": {},
   "outputs": [],
   "source": [
    "# Define mappings for alternative names and duplicates\n",
    "country_standardization = {\n",
    "    \"USA\": \"United States\",\n",
    "    \"United States-2\": \"United States\",\n",
    "    \"Afghanistan-2\": \"Afghanistan\",\n",
    "    \"North Korea\": \"Dem. Rep. Korea\",\n",
    "    \"North Korea-2\": \"Dem. Rep. Korea\",\n",
    "    \"South Korea\": \"Republic of Korea\",\n",
    "    \"South Korea-2\": \"Republic of Korea\",\n",
    "    \"Uzbekistan-2\": \"Uzbekistan\",\n",
    "    \"Belarus-2\": \"Belarus\",\n",
    "    \"Azerbaijan-2\": \"Azerbaijan\",\n",
    "\n",
    "    # Add additional mappings as needed\n",
    "}\n",
    "\n",
    "alliance_standardization = {\n",
    "    \"EU\": \"European Union\",\n",
    "    \"European Union-2\": \"European Union\",\n",
    "    \"SCO-2\": \"SCO\",\n",
    "    \"United Nations-2\": \"United Nations\",\n",
    "\n",
    "    # Add additional mappings as needed\n",
    "}\n",
    "\n",
    "# Standardize country names in the 'countries' column\n",
    "df['countries'] = df['countries'].apply(lambda country_list: [country_standardization.get(country, country) for country in country_list])\n",
    "\n",
    "# Standardize alliance names in the 'alliances' column\n",
    "df['alliances'] = df['alliances'].apply(lambda alliance_list: [alliance_standardization.get(alliance, alliance) for alliance in alliance_list])\n"
   ]
  },
  {
   "cell_type": "markdown",
   "metadata": {},
   "source": [
    "Remove duplicate entries within each list:"
   ]
  },
  {
   "cell_type": "code",
   "execution_count": 20,
   "metadata": {},
   "outputs": [],
   "source": [
    "df['countries'] = df['countries'].apply(lambda x: list(set(x)))\n",
    "df['alliances'] = df['alliances'].apply(lambda x: list(set(x)))"
   ]
  },
  {
   "cell_type": "markdown",
   "metadata": {},
   "source": [
    "Save the updated DataFrame back to a new CSV"
   ]
  },
  {
   "cell_type": "code",
   "execution_count": 22,
   "metadata": {},
   "outputs": [],
   "source": [
    "df.to_csv('/Users/mellome/Desktop/ICSS-FP/datasets/labeled_kun.csv', index=False)  # Output file"
   ]
  }
 ],
 "metadata": {
  "kernelspec": {
   "display_name": "Python 3 (ipykernel)",
   "language": "python",
   "name": "python3"
  },
  "language_info": {
   "codemirror_mode": {
    "name": "ipython",
    "version": 3
   },
   "file_extension": ".py",
   "mimetype": "text/x-python",
   "name": "python",
   "nbconvert_exporter": "python",
   "pygments_lexer": "ipython3",
   "version": "3.12.4"
  }
 },
 "nbformat": 4,
 "nbformat_minor": 4
}
